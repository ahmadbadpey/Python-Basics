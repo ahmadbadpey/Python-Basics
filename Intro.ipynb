{
 "cells": [
  {
   "cell_type": "markdown",
   "id": "46fe1dec",
   "metadata": {
    "pycharm": {
     "name": "#%% md\n"
    }
   },
   "source": [
    "<h1 class=\"text-center\">Python Intro </h1>"
   ]
  },
  {
   "cell_type": "markdown",
   "id": "e6aca818",
   "metadata": {},
   "source": [
    "<img src=\"images/python_logo.png\">"
   ]
  },
  {
   "cell_type": "markdown",
   "id": "ccea0655",
   "metadata": {
    "pycharm": {
     "name": "#%% md\n"
    }
   },
   "source": [
    "## What is Python?\n",
    "\n",
    "Python is a popular programming language.\n",
    "\n",
    "It is used for:\n",
    "\n",
    "<ul>\n",
    "    <li>web development (server-side),</li>\n",
    "    <li>software development</li>\n",
    "    <li>mathematics</li>\n",
    "</ul>\n",
    "\n",
    "## What can Python do?\n",
    "\n",
    "<ul>\n",
    "    <li>Python can connect to database systems. It can also read and modify files.</li>\n",
    "    <li>Python can be used to handle big data and perform complex mathematics.</li>\n",
    "    <li>Python can be used for rapid prototyping, or for production-ready software development.</li>\n",
    "</ul>\n",
    "\n",
    "## Why Python?\n",
    "\n",
    "<ul>\n",
    "    <li>Python works on different platforms (Windows, Mac, Linux, Raspberry Pi, etc).</li>\n",
    "    <li>Python has a simple syntax similar to the English language.</li>\n",
    "    <li>Python runs on an interpreter system, meaning that code can be executed as soon as it is written. This means that prototyping can be very quick.</li>\n",
    "    <li>Python can be treated in a procedural way, an object-oriented way or a functional way.</li>\n",
    "\n",
    "</ul>\n",
    "\n",
    "#### The most recent major version of Python is Python 3\n",
    "\n",
    "## Python compared to other programming languages\n",
    "<ul>\n",
    "    <li>Python was designed for readability, and has some similarities to the English language</li>\n",
    "    <li>Python uses new lines to complete a command, as opposed to other programming languages which often use semicolons or parentheses</li>\n",
    "    <li>Python relies on indentation, using whitespace, to define scope; such as the scope of loops, functions and classes. Other programming languages often use curly-brackets for this purpose.</li>\n",
    "</ul>"
   ]
  },
  {
   "cell_type": "markdown",
   "id": "92bc331a",
   "metadata": {},
   "source": [
    "## Python Syntax\n",
    "\n",
    "Python syntax can be executed by writing directly in the Command Line:"
   ]
  },
  {
   "cell_type": "code",
   "execution_count": 2,
   "id": "ed41b6fc",
   "metadata": {
    "scrolled": true
   },
   "outputs": [
    {
     "name": "stdout",
     "output_type": "stream",
     "text": [
      "Hello, World!\n"
     ]
    }
   ],
   "source": [
    "print(\"Hello, World!\")\n"
   ]
  },
  {
   "cell_type": "markdown",
   "id": "cbdaa7e4",
   "metadata": {},
   "source": [
    "### Python Indentation\n",
    "\n",
    "Python uses indentation to indicate a block of code : "
   ]
  },
  {
   "cell_type": "code",
   "execution_count": 7,
   "id": "c878bb28",
   "metadata": {
    "scrolled": true
   },
   "outputs": [
    {
     "name": "stdout",
     "output_type": "stream",
     "text": [
      "Five is greater than two!\n"
     ]
    }
   ],
   "source": [
    "if 5 > 2:\n",
    "    print(\"Five is greater than two!\")\n",
    "\n",
    "#Python will give you an error if you skip the indentation"
   ]
  },
  {
   "cell_type": "markdown",
   "id": "3b2a0bc8",
   "metadata": {},
   "source": [
    "<div class=\"alert alert-info\" role=\"alert\">\n",
    "    The number of spaces is up to you as a programmer, the most common use is four, but it has to be at least one.\n",
    "</div>\n",
    "\n",
    "You have to use the same number of spaces in the same block of code, otherwise Python will give you an error:"
   ]
  },
  {
   "cell_type": "code",
   "execution_count": 8,
   "id": "c4ea1442",
   "metadata": {},
   "outputs": [
    {
     "ename": "IndentationError",
     "evalue": "unexpected indent (1240467842.py, line 3)",
     "output_type": "error",
     "traceback": [
      "\u001b[1;36m  Cell \u001b[1;32mIn [8], line 3\u001b[1;36m\u001b[0m\n\u001b[1;33m    print(\"Five is greater than two!\")\u001b[0m\n\u001b[1;37m    ^\u001b[0m\n\u001b[1;31mIndentationError\u001b[0m\u001b[1;31m:\u001b[0m unexpected indent\n"
     ]
    }
   ],
   "source": [
    "if 5 > 2:\n",
    " print(\"Five is greater than two!\")\n",
    "        print(\"Five is greater than two!\")\n"
   ]
  },
  {
   "cell_type": "markdown",
   "id": "228a3464",
   "metadata": {},
   "source": [
    "# Python Variables\n",
    "\n",
    "Variables are containers for storing data values.\n",
    "\n",
    "\n",
    "Python has no command for declaring a variable.\n",
    "\n",
    "A variable is created the moment you first assign a value to it."
   ]
  },
  {
   "cell_type": "code",
   "execution_count": 11,
   "id": "8266b263",
   "metadata": {},
   "outputs": [
    {
     "name": "stdout",
     "output_type": "stream",
     "text": [
      "5\n",
      "John\n"
     ]
    }
   ],
   "source": [
    "x = 5 \n",
    "y = \"John\" \n",
    "\n",
    "print(x)\n",
    "print(y)"
   ]
  },
  {
   "cell_type": "markdown",
   "id": "1fae4557",
   "metadata": {},
   "source": [
    "Variables do not need to be declared with any particular type, and can even change type after they have been set."
   ]
  },
  {
   "cell_type": "code",
   "execution_count": 12,
   "id": "ebe0c420",
   "metadata": {},
   "outputs": [
    {
     "name": "stdout",
     "output_type": "stream",
     "text": [
      "Sally\n"
     ]
    }
   ],
   "source": [
    "x = 4       # x is of type int\n",
    "x = \"Sally\" # x is now of type str\n",
    "\n",
    "print(x)\n"
   ]
  },
  {
   "cell_type": "markdown",
   "id": "b7f5cb67",
   "metadata": {},
   "source": [
    "## Notes\n",
    "\n",
    "<ul>\n",
    "    <li>Variable names are case-sensitive.</li>\n",
    "    <li>String variables can be declared either by using single or double quotes</li>\n",
    "</ul>\n",
    "\n",
    "## Variable Names\n",
    "\n",
    "<ul>\n",
    "    <li>must start with a letter or the underscore character</li>\n",
    "    <li>cannot start with a number</li>\n",
    "    <li>can only contain alpha-numeric characters and underscores (A-z, 0-9, and _ )</li>\n",
    "</ul>\n"
   ]
  },
  {
   "cell_type": "markdown",
   "id": "24cee2c4",
   "metadata": {},
   "source": [
    "### Illegal variable names:"
   ]
  },
  {
   "cell_type": "code",
   "execution_count": 13,
   "id": "6fa1920e",
   "metadata": {
    "scrolled": true
   },
   "outputs": [
    {
     "ename": "SyntaxError",
     "evalue": "invalid decimal literal (2185399839.py, line 1)",
     "output_type": "error",
     "traceback": [
      "\u001b[1;36m  Cell \u001b[1;32mIn [13], line 1\u001b[1;36m\u001b[0m\n\u001b[1;33m    2myvar = \"John\"\u001b[0m\n\u001b[1;37m    ^\u001b[0m\n\u001b[1;31mSyntaxError\u001b[0m\u001b[1;31m:\u001b[0m invalid decimal literal\n"
     ]
    }
   ],
   "source": [
    "2myvar = \"John\"\n",
    "my-var = \"John\"\n",
    "my var = \"John\""
   ]
  },
  {
   "cell_type": "markdown",
   "id": "5f309210",
   "metadata": {},
   "source": [
    "## Many Values to Multiple Variables\n",
    "\n",
    "Python allows you to assign values to multiple variables in one line:"
   ]
  },
  {
   "cell_type": "code",
   "execution_count": 14,
   "id": "f00609a7",
   "metadata": {},
   "outputs": [
    {
     "name": "stdout",
     "output_type": "stream",
     "text": [
      "Orange\n",
      "Banana\n",
      "Cherry\n"
     ]
    }
   ],
   "source": [
    "x, y, z = \"Orange\", \"Banana\", \"Cherry\"\n",
    "\n",
    "print(x)\n",
    "print(y)\n",
    "print(z)"
   ]
  },
  {
   "cell_type": "markdown",
   "id": "6ed54264",
   "metadata": {},
   "source": [
    "<div class=\"alert alert-danger d-flex align-items-center\" role=\"alert\">\n",
    "  <svg class=\"bi flex-shrink-0 me-2\" role=\"img\" aria-label=\"Danger:\"><use xlink:href=\"#exclamation-triangle-fill\"/></svg>\n",
    "  <div>\n",
    "      <strong>Note:</strong> Make sure the number of variables matches the number of values, or else you will get an error.\n",
    "  </div>\n",
    "</div>"
   ]
  },
  {
   "cell_type": "markdown",
   "id": "71e7ef89",
   "metadata": {},
   "source": [
    "## Output Variables\n",
    "\n",
    "In the print() function, you output multiple variables, separated by a comma:"
   ]
  },
  {
   "cell_type": "code",
   "execution_count": 15,
   "id": "4f032d28",
   "metadata": {},
   "outputs": [
    {
     "name": "stdout",
     "output_type": "stream",
     "text": [
      "Python is awesome\n"
     ]
    }
   ],
   "source": [
    "x = \"Python\"\n",
    "y = \"is\"\n",
    "z = \"awesome\"\n",
    "print(x, y, z)\n"
   ]
  },
  {
   "cell_type": "markdown",
   "id": "c4ca2927",
   "metadata": {},
   "source": [
    "You can also use the + operator to output multiple variables:"
   ]
  },
  {
   "cell_type": "code",
   "execution_count": 17,
   "id": "eefbb6c2",
   "metadata": {
    "scrolled": true
   },
   "outputs": [
    {
     "name": "stdout",
     "output_type": "stream",
     "text": [
      "Python is awesome\n"
     ]
    }
   ],
   "source": [
    "x = \"Python \"\n",
    "y = \"is \"\n",
    "z = \"awesome\"\n",
    "print(x + y + z)\n"
   ]
  },
  {
   "cell_type": "markdown",
   "id": "43f7bd54",
   "metadata": {},
   "source": [
    "In the print() function, when you try to combine a string and a number with the + operator, Python will give you an error:"
   ]
  },
  {
   "cell_type": "code",
   "execution_count": 19,
   "id": "14bcad67",
   "metadata": {},
   "outputs": [
    {
     "ename": "TypeError",
     "evalue": "unsupported operand type(s) for +: 'int' and 'str'",
     "output_type": "error",
     "traceback": [
      "\u001b[1;31m---------------------------------------------------------------------------\u001b[0m",
      "\u001b[1;31mTypeError\u001b[0m                                 Traceback (most recent call last)",
      "Cell \u001b[1;32mIn [19], line 3\u001b[0m\n\u001b[0;32m      1\u001b[0m x \u001b[38;5;241m=\u001b[39m \u001b[38;5;241m5\u001b[39m\n\u001b[0;32m      2\u001b[0m y \u001b[38;5;241m=\u001b[39m \u001b[38;5;124m\"\u001b[39m\u001b[38;5;124mJohn\u001b[39m\u001b[38;5;124m\"\u001b[39m\n\u001b[1;32m----> 3\u001b[0m \u001b[38;5;28mprint\u001b[39m(x \u001b[38;5;241m+\u001b[39m y)\n",
      "\u001b[1;31mTypeError\u001b[0m: unsupported operand type(s) for +: 'int' and 'str'"
     ]
    }
   ],
   "source": [
    "x = 5\n",
    "y = \"John\"\n",
    "print(x + y)\n"
   ]
  }
 ],
 "metadata": {
  "kernelspec": {
   "display_name": "Python 3 (ipykernel)",
   "language": "python",
   "name": "python3"
  },
  "language_info": {
   "codemirror_mode": {
    "name": "ipython",
    "version": 3
   },
   "file_extension": ".py",
   "mimetype": "text/x-python",
   "name": "python",
   "nbconvert_exporter": "python",
   "pygments_lexer": "ipython3",
   "version": "3.10.7"
  }
 },
 "nbformat": 4,
 "nbformat_minor": 5
}
