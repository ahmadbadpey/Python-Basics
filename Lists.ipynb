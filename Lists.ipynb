{
 "cells": [
  {
   "cell_type": "markdown",
   "id": "39d12555",
   "metadata": {},
   "source": [
    "<h1 class=\"text-center\">Python Lists </h1>\n",
    "\n",
    "<img src=\"images/python-list.jpg\">\n",
    "\n",
    "Lists are used to store multiple items in a single variable.\n",
    "\n",
    "\n",
    "Lists are one of 4 built-in data types in Python used to store collections of data, the other 3 are **Tuple**, **Set**, and **Dictionary**, all with different qualities and usage.\n",
    "\n",
    "Lists are created using square brackets:\n",
    "\n"
   ]
  },
  {
   "cell_type": "code",
   "execution_count": 2,
   "id": "b35268a3",
   "metadata": {
    "scrolled": true
   },
   "outputs": [
    {
     "name": "stdout",
     "output_type": "stream",
     "text": [
      "['apple', 'banana', 'cherry']\n"
     ]
    }
   ],
   "source": [
    "thislist = [\"apple\", \"banana\", \"cherry\"]\n",
    "print(thislist)"
   ]
  },
  {
   "cell_type": "markdown",
   "id": "658b9520",
   "metadata": {},
   "source": [
    "List items are ordered, changeable, and allow duplicate values.\n",
    "\n",
    "List items are indexed, the first item has index <mark>[0]</mark>, the second item has index <mark>[1]</mark> etc."
   ]
  },
  {
   "cell_type": "markdown",
   "id": "9a0d8ca1",
   "metadata": {},
   "source": [
    "### Ordered \n",
    "\n",
    "When we say that lists are ordered, it means that the items have a defined order, and that order will not change.\n",
    "\n",
    "If you add new items to a list, the new items will be placed at the end of the list.\n",
    "\n",
    "### Changeable\n",
    "\n",
    "meaning that we can change, add, and remove items in a list after it has been created.\n",
    "\n",
    "### Allow Duplicates\n",
    "\n",
    "Since lists are indexed, lists can have items with the same value:"
   ]
  },
  {
   "cell_type": "code",
   "execution_count": 3,
   "id": "57a7c9c8",
   "metadata": {},
   "outputs": [
    {
     "name": "stdout",
     "output_type": "stream",
     "text": [
      "['apple', 'banana', 'cherry', 'apple', 'cherry']\n"
     ]
    }
   ],
   "source": [
    "thislist = [\"apple\", \"banana\", \"cherry\", \"apple\", \"cherry\"]\n",
    "print(thislist)\n"
   ]
  },
  {
   "cell_type": "markdown",
   "id": "2e2f3655",
   "metadata": {},
   "source": [
    "### List Items - Data Types\n",
    "List items can be of any data type:\n",
    "\n"
   ]
  },
  {
   "cell_type": "code",
   "execution_count": 4,
   "id": "e899470a",
   "metadata": {},
   "outputs": [],
   "source": [
    "list1 = [\"apple\", \"banana\", \"cherry\"]\n",
    "list2 = [1, 5, 7, 9, 3]\n",
    "list3 = [True, False, False]\n"
   ]
  },
  {
   "cell_type": "markdown",
   "id": "5e455e25",
   "metadata": {},
   "source": [
    "A list can contain different data types:"
   ]
  },
  {
   "cell_type": "code",
   "execution_count": 5,
   "id": "a636963c",
   "metadata": {},
   "outputs": [],
   "source": [
    "list1 = [\"abc\", 34, True, 40, \"male\"]\n"
   ]
  },
  {
   "cell_type": "markdown",
   "id": "23fc1022",
   "metadata": {},
   "source": [
    "### The list() Constructor\n",
    "\n",
    "It is also possible to use the list() constructor when creating a new list."
   ]
  },
  {
   "cell_type": "code",
   "execution_count": 6,
   "id": "dec6b4b0",
   "metadata": {
    "scrolled": true
   },
   "outputs": [
    {
     "name": "stdout",
     "output_type": "stream",
     "text": [
      "['apple', 'banana', 'cherry']\n"
     ]
    }
   ],
   "source": [
    "thislist = list((\"apple\", \"banana\", \"cherry\")) # note the double round-brackets\n",
    "print(thislist)\n"
   ]
  },
  {
   "cell_type": "markdown",
   "id": "18664f22",
   "metadata": {},
   "source": [
    "### Access Items\n",
    "\n",
    "List items are indexed and you can access them by referring to the index number:\n",
    "\n"
   ]
  },
  {
   "cell_type": "code",
   "execution_count": 7,
   "id": "eb97936d",
   "metadata": {},
   "outputs": [
    {
     "name": "stdout",
     "output_type": "stream",
     "text": [
      "banana\n"
     ]
    }
   ],
   "source": [
    "thislist = [\"apple\", \"banana\", \"cherry\"]\n",
    "print(thislist[1])\n"
   ]
  },
  {
   "cell_type": "markdown",
   "id": "35934db0",
   "metadata": {},
   "source": [
    "#### Negative Indexing\n",
    "\n",
    "Negative indexing means start from the end\n",
    "\n",
    "<mark>-1</mark> refers to the last item, <mark>-2</mark> refers to the second last item etc.\n",
    "\n"
   ]
  },
  {
   "cell_type": "code",
   "execution_count": 9,
   "id": "8cffe26e",
   "metadata": {
    "scrolled": true
   },
   "outputs": [
    {
     "name": "stdout",
     "output_type": "stream",
     "text": [
      "cherry\n"
     ]
    }
   ],
   "source": [
    "thislist = [\"apple\", \"banana\", \"cherry\"]\n",
    "print(thislist[-1])"
   ]
  },
  {
   "cell_type": "markdown",
   "id": "a6b354b0",
   "metadata": {},
   "source": [
    "#### Range of Indexes\n",
    "\n",
    "You can specify a range of indexes by specifying where to start and where to end the range.\n",
    "\n",
    "When specifying a range, the return value will be a new list with the specified items."
   ]
  },
  {
   "cell_type": "code",
   "execution_count": 10,
   "id": "4fbd46bb",
   "metadata": {},
   "outputs": [
    {
     "name": "stdout",
     "output_type": "stream",
     "text": [
      "['cherry', 'orange', 'kiwi']\n"
     ]
    }
   ],
   "source": [
    "# Return the third, fourth, and fifth item:\n",
    "\n",
    "thislist = [\"apple\", \"banana\", \"cherry\", \"orange\", \"kiwi\", \"melon\", \"mango\"]\n",
    "print(thislist[2:5])\n"
   ]
  },
  {
   "cell_type": "code",
   "execution_count": 11,
   "id": "abb8bfca",
   "metadata": {},
   "outputs": [
    {
     "name": "stdout",
     "output_type": "stream",
     "text": [
      "['apple', 'banana', 'cherry', 'orange']\n"
     ]
    }
   ],
   "source": [
    "#By leaving out the start value, the range will start at the first item:\n",
    "\n",
    "thislist = [\"apple\", \"banana\", \"cherry\", \"orange\", \"kiwi\", \"melon\", \"mango\"]\n",
    "print(thislist[:4])\n"
   ]
  },
  {
   "cell_type": "code",
   "execution_count": 12,
   "id": "6a338bd4",
   "metadata": {},
   "outputs": [
    {
     "name": "stdout",
     "output_type": "stream",
     "text": [
      "['cherry', 'orange', 'kiwi', 'melon', 'mango']\n"
     ]
    }
   ],
   "source": [
    "# By leaving out the end value, the range will go on to the end of the list:\n",
    "\n",
    "thislist = [\"apple\", \"banana\", \"cherry\", \"orange\", \"kiwi\", \"melon\", \"mango\"]\n",
    "print(thislist[2:])\n"
   ]
  },
  {
   "cell_type": "code",
   "execution_count": 13,
   "id": "f8f58ff5",
   "metadata": {},
   "outputs": [
    {
     "name": "stdout",
     "output_type": "stream",
     "text": [
      "['orange', 'kiwi', 'melon']\n"
     ]
    }
   ],
   "source": [
    "# This example returns the items from \"orange\" (-4) to, but NOT including \"mango\" (-1):\n",
    "\n",
    "\n",
    "thislist = [\"apple\", \"banana\", \"cherry\", \"orange\", \"kiwi\", \"melon\", \"mango\"]\n",
    "print(thislist[-4:-1])\n"
   ]
  },
  {
   "cell_type": "markdown",
   "id": "9b191f52",
   "metadata": {},
   "source": [
    "### Change Item Value"
   ]
  },
  {
   "cell_type": "code",
   "execution_count": 14,
   "id": "d5f8babc",
   "metadata": {},
   "outputs": [
    {
     "name": "stdout",
     "output_type": "stream",
     "text": [
      "['apple', 'blackcurrant', 'cherry']\n"
     ]
    }
   ],
   "source": [
    "thislist = [\"apple\", \"banana\", \"cherry\"]\n",
    "thislist[1] = \"blackcurrant\"\n",
    "print(thislist)\n"
   ]
  },
  {
   "cell_type": "markdown",
   "id": "afc98268",
   "metadata": {},
   "source": [
    "### Change a Range of Item Values\n",
    "\n",
    "To change the value of items within a specific range, define a list with the new values, and refer to the range of index numbers where you want to insert the new values:\n",
    "\n"
   ]
  },
  {
   "cell_type": "code",
   "execution_count": 15,
   "id": "ce5889c2",
   "metadata": {},
   "outputs": [
    {
     "name": "stdout",
     "output_type": "stream",
     "text": [
      "['apple', 'blackcurrant', 'watermelon', 'orange', 'kiwi', 'mango']\n"
     ]
    }
   ],
   "source": [
    "thislist = [\"apple\", \"banana\", \"cherry\", \"orange\", \"kiwi\", \"mango\"]\n",
    "thislist[1:3] = [\"blackcurrant\", \"watermelon\"]\n",
    "print(thislist)\n"
   ]
  },
  {
   "cell_type": "markdown",
   "id": "d81940c9",
   "metadata": {},
   "source": [
    "### Insert Items"
   ]
  },
  {
   "cell_type": "code",
   "execution_count": 16,
   "id": "6b59d33b",
   "metadata": {},
   "outputs": [
    {
     "name": "stdout",
     "output_type": "stream",
     "text": [
      "['apple', 'banana', 'watermelon', 'cherry']\n"
     ]
    }
   ],
   "source": [
    "thislist = [\"apple\", \"banana\", \"cherry\"]\n",
    "\n",
    "#The insert() method inserts an item at the specified index:\n",
    "thislist.insert(2, \"watermelon\")\n",
    "print(thislist)\n"
   ]
  },
  {
   "cell_type": "markdown",
   "id": "ff778ddd",
   "metadata": {},
   "source": [
    "## Append Items\n",
    "\n",
    "Using the append() method to append an item:\n",
    "\n"
   ]
  },
  {
   "cell_type": "code",
   "execution_count": 17,
   "id": "aff070b6",
   "metadata": {},
   "outputs": [
    {
     "name": "stdout",
     "output_type": "stream",
     "text": [
      "['apple', 'banana', 'cherry', 'orange']\n"
     ]
    }
   ],
   "source": [
    "thislist = [\"apple\", \"banana\", \"cherry\"]\n",
    "thislist.append(\"orange\")\n",
    "print(thislist)\n"
   ]
  },
  {
   "cell_type": "markdown",
   "id": "f2c1eaae",
   "metadata": {},
   "source": [
    "### Extend List"
   ]
  },
  {
   "cell_type": "code",
   "execution_count": 18,
   "id": "44b8ce03",
   "metadata": {},
   "outputs": [
    {
     "name": "stdout",
     "output_type": "stream",
     "text": [
      "['apple', 'banana', 'cherry', 'mango', 'pineapple', 'papaya']\n"
     ]
    }
   ],
   "source": [
    "thislist = [\"apple\", \"banana\", \"cherry\"]\n",
    "tropical = [\"mango\", \"pineapple\", \"papaya\"]\n",
    "\n",
    "#The elements will be added to the end of the list.\n",
    "thislist.extend(tropical)\n",
    "\n",
    "print(thislist)\n"
   ]
  },
  {
   "cell_type": "markdown",
   "id": "9a5600d5",
   "metadata": {},
   "source": [
    "The extend() method does not have to append lists, you can add any iterable object (tuples, sets, dictionaries etc.)."
   ]
  },
  {
   "cell_type": "markdown",
   "id": "bbe4459a",
   "metadata": {},
   "source": [
    "## Remove List Items\n",
    "\n",
    "The remove() method removes the specified item.\n",
    "\n"
   ]
  },
  {
   "cell_type": "code",
   "execution_count": 21,
   "id": "560fd80a",
   "metadata": {},
   "outputs": [
    {
     "name": "stdout",
     "output_type": "stream",
     "text": [
      "['apple', 'cherry']\n"
     ]
    }
   ],
   "source": [
    "thislist = [\"apple\", \"banana\", \"cherry\"]\n",
    "thislist.remove(\"banana\")\n",
    "print(thislist)"
   ]
  },
  {
   "cell_type": "markdown",
   "id": "be104de5",
   "metadata": {},
   "source": [
    "The pop() method removes the specified index."
   ]
  },
  {
   "cell_type": "code",
   "execution_count": 20,
   "id": "99e43ea9",
   "metadata": {},
   "outputs": [
    {
     "name": "stdout",
     "output_type": "stream",
     "text": [
      "['apple', 'cherry']\n"
     ]
    }
   ],
   "source": [
    "thislist = [\"apple\", \"banana\", \"cherry\"]\n",
    "thislist.pop(1)\n",
    "print(thislist)"
   ]
  },
  {
   "cell_type": "markdown",
   "id": "d802fde2",
   "metadata": {},
   "source": [
    "If you **do not** specify the index, the pop() method removes the last item.\n",
    "\n"
   ]
  },
  {
   "cell_type": "markdown",
   "id": "2d3e499a",
   "metadata": {},
   "source": [
    "The **del** keyword also removes the specified index:\n",
    "\n"
   ]
  },
  {
   "cell_type": "code",
   "execution_count": 23,
   "id": "ffb977d3",
   "metadata": {},
   "outputs": [
    {
     "name": "stdout",
     "output_type": "stream",
     "text": [
      "['banana', 'cherry']\n"
     ]
    }
   ],
   "source": [
    "thislist = [\"apple\", \"banana\", \"cherry\"]\n",
    "del thislist[0]\n",
    "print(thislist)\n"
   ]
  },
  {
   "cell_type": "markdown",
   "id": "9e6cebb0",
   "metadata": {},
   "source": [
    "The clear() method empties the list."
   ]
  },
  {
   "cell_type": "code",
   "execution_count": 24,
   "id": "ca19774b",
   "metadata": {},
   "outputs": [
    {
     "name": "stdout",
     "output_type": "stream",
     "text": [
      "[]\n"
     ]
    }
   ],
   "source": [
    "thislist = [\"apple\", \"banana\", \"cherry\"]\n",
    "thislist.clear()\n",
    "print(thislist)\n"
   ]
  },
  {
   "cell_type": "markdown",
   "id": "70775460",
   "metadata": {},
   "source": [
    "## Loop Lists"
   ]
  },
  {
   "cell_type": "code",
   "execution_count": 25,
   "id": "5a1cbe08",
   "metadata": {},
   "outputs": [
    {
     "name": "stdout",
     "output_type": "stream",
     "text": [
      "apple\n",
      "banana\n",
      "cherry\n"
     ]
    }
   ],
   "source": [
    "thislist = [\"apple\", \"banana\", \"cherry\"]\n",
    "for x in thislist:\n",
    "  print(x)\n"
   ]
  },
  {
   "cell_type": "markdown",
   "id": "1b22571c",
   "metadata": {},
   "source": [
    "You can also loop through the list items by referring to their index number.\n",
    "\n",
    "Use the **range()** and **len()** functions to create a suitable iterable."
   ]
  },
  {
   "cell_type": "code",
   "execution_count": 26,
   "id": "3655e0f4",
   "metadata": {},
   "outputs": [
    {
     "name": "stdout",
     "output_type": "stream",
     "text": [
      "apple\n",
      "banana\n",
      "cherry\n"
     ]
    }
   ],
   "source": [
    "thislist = [\"apple\", \"banana\", \"cherry\"]\n",
    "for i in range(len(thislist)):\n",
    "  print(thislist[i])\n"
   ]
  },
  {
   "cell_type": "markdown",
   "id": "002022f8",
   "metadata": {},
   "source": [
    "### Using a While Loop"
   ]
  },
  {
   "cell_type": "code",
   "execution_count": 27,
   "id": "9713f1a2",
   "metadata": {},
   "outputs": [
    {
     "name": "stdout",
     "output_type": "stream",
     "text": [
      "apple\n",
      "banana\n",
      "cherry\n"
     ]
    }
   ],
   "source": [
    "thislist = [\"apple\", \"banana\", \"cherry\"]\n",
    "i = 0\n",
    "while i < len(thislist):\n",
    "  print(thislist[i])\n",
    "  i = i + 1"
   ]
  },
  {
   "cell_type": "markdown",
   "id": "559fad25",
   "metadata": {},
   "source": [
    "## Sort Lists"
   ]
  },
  {
   "cell_type": "code",
   "execution_count": 28,
   "id": "9f1d4857",
   "metadata": {},
   "outputs": [
    {
     "name": "stdout",
     "output_type": "stream",
     "text": [
      "['banana', 'kiwi', 'mango', 'orange', 'pineapple']\n"
     ]
    }
   ],
   "source": [
    "thislist = [\"orange\", \"mango\", \"kiwi\", \"pineapple\", \"banana\"]\n",
    "thislist.sort()\n",
    "print(thislist)"
   ]
  },
  {
   "cell_type": "markdown",
   "id": "db6c93c6",
   "metadata": {},
   "source": [
    "Sort the list numerically:"
   ]
  },
  {
   "cell_type": "code",
   "execution_count": 29,
   "id": "0037fc59",
   "metadata": {
    "scrolled": true
   },
   "outputs": [
    {
     "name": "stdout",
     "output_type": "stream",
     "text": [
      "[23, 50, 65, 82, 100]\n"
     ]
    }
   ],
   "source": [
    "thislist = [100, 50, 65, 82, 23]\n",
    "thislist.sort()\n",
    "print(thislist)\n"
   ]
  },
  {
   "cell_type": "markdown",
   "id": "3540ade4",
   "metadata": {},
   "source": [
    "To sort descending, use the keyword argument **reverse = True**:"
   ]
  },
  {
   "cell_type": "code",
   "execution_count": 30,
   "id": "964f01d4",
   "metadata": {},
   "outputs": [
    {
     "name": "stdout",
     "output_type": "stream",
     "text": [
      "['pineapple', 'orange', 'mango', 'kiwi', 'banana']\n"
     ]
    }
   ],
   "source": [
    "thislist = [\"orange\", \"mango\", \"kiwi\", \"pineapple\", \"banana\"]\n",
    "thislist.sort(reverse = True)\n",
    "print(thislist)\n"
   ]
  },
  {
   "cell_type": "markdown",
   "id": "63ae904b",
   "metadata": {},
   "source": [
    "The reverse() method reverses the current sorting order of the elements."
   ]
  },
  {
   "cell_type": "code",
   "execution_count": 31,
   "id": "b963980a",
   "metadata": {},
   "outputs": [
    {
     "name": "stdout",
     "output_type": "stream",
     "text": [
      "['cherry', 'Kiwi', 'Orange', 'banana']\n"
     ]
    }
   ],
   "source": [
    "thislist = [\"banana\", \"Orange\", \"Kiwi\", \"cherry\"]\n",
    "thislist.reverse()\n",
    "print(thislist)\n"
   ]
  },
  {
   "cell_type": "markdown",
   "id": "5914da4b",
   "metadata": {},
   "source": [
    "## Copy Lists\n",
    "\n",
    "You cannot copy a list simply by typing **list2 = list1** , because: *list2 will only be a reference to list1*, and changes made in list1 will automatically also be made in list2.\n",
    "\n",
    "one way is to use the built-in List method copy() : \n"
   ]
  },
  {
   "cell_type": "code",
   "execution_count": 32,
   "id": "ba4f2bbc",
   "metadata": {},
   "outputs": [
    {
     "name": "stdout",
     "output_type": "stream",
     "text": [
      "['apple', 'banana', 'cherry']\n"
     ]
    }
   ],
   "source": [
    "thislist = [\"apple\", \"banana\", \"cherry\"]\n",
    "mylist = thislist.copy()\n",
    "print(mylist)\n"
   ]
  },
  {
   "cell_type": "markdown",
   "id": "8272c656",
   "metadata": {},
   "source": [
    "Another way to make a copy is to use the built-in method **list()** ."
   ]
  },
  {
   "cell_type": "code",
   "execution_count": 33,
   "id": "44beb367",
   "metadata": {},
   "outputs": [
    {
     "name": "stdout",
     "output_type": "stream",
     "text": [
      "['apple', 'banana', 'cherry']\n"
     ]
    }
   ],
   "source": [
    "thislist = [\"apple\", \"banana\", \"cherry\"]\n",
    "mylist = list(thislist)\n",
    "print(mylist)\n"
   ]
  },
  {
   "cell_type": "markdown",
   "id": "551202d6",
   "metadata": {},
   "source": [
    "## Join Lists\n",
    "\n",
    "There are several ways to join, or concatenate, two or more lists in Python.\n",
    "\n",
    "One of the easiest ways are by using the + operator.\n",
    "\n"
   ]
  },
  {
   "cell_type": "code",
   "execution_count": 35,
   "id": "9376ba67",
   "metadata": {},
   "outputs": [
    {
     "name": "stdout",
     "output_type": "stream",
     "text": [
      "['a', 'b', 'c', 1, 2, 3]\n"
     ]
    }
   ],
   "source": [
    "list1 = [\"a\", \"b\", \"c\"]\n",
    "list2 = [1, 2, 3]\n",
    "\n",
    "list3 = list1 + list2\n",
    "print(list3)\n"
   ]
  },
  {
   "cell_type": "markdown",
   "id": "9afb3d91",
   "metadata": {},
   "source": [
    "Or you can use the **extend()** method, which purpose is to add elements from one list to another list:"
   ]
  },
  {
   "cell_type": "code",
   "execution_count": 36,
   "id": "fad4c53b",
   "metadata": {},
   "outputs": [
    {
     "name": "stdout",
     "output_type": "stream",
     "text": [
      "['a', 'b', 'c', 1, 2, 3]\n"
     ]
    }
   ],
   "source": [
    "list1 = [\"a\", \"b\" , \"c\"]\n",
    "list2 = [1, 2, 3]\n",
    "\n",
    "list1.extend(list2)\n",
    "print(list1)\n"
   ]
  }
 ],
 "metadata": {
  "kernelspec": {
   "display_name": "Python 3 (ipykernel)",
   "language": "python",
   "name": "python3"
  },
  "language_info": {
   "codemirror_mode": {
    "name": "ipython",
    "version": 3
   },
   "file_extension": ".py",
   "mimetype": "text/x-python",
   "name": "python",
   "nbconvert_exporter": "python",
   "pygments_lexer": "ipython3",
   "version": "3.10.7"
  }
 },
 "nbformat": 4,
 "nbformat_minor": 5
}
